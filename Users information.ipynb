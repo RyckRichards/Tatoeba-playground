{
 "cells": [
  {
   "cell_type": "markdown",
   "metadata": {},
   "source": [
    "Run the following two cells first"
   ]
  },
  {
   "cell_type": "code",
   "execution_count": null,
   "metadata": {},
   "outputs": [],
   "source": [
    "import pandas as pd\n",
    "import csv\n",
    "import tarfile"
   ]
  },
  {
   "cell_type": "code",
   "execution_count": null,
   "metadata": {},
   "outputs": [],
   "source": [
    "pd.set_option('display.max_colwidth', -1) # To display full content of the column\n",
    "# pd.set_option('display.max_rows', None) # To display ALL rows of the dataframe (otherwise you can decide the max number)"
   ]
  },
  {
   "cell_type": "markdown",
   "metadata": {},
   "source": [
    "# Languages of users"
   ]
  },
  {
   "cell_type": "markdown",
   "metadata": {},
   "source": [
    "First, run the two following cells to prepare the necessary data."
   ]
  },
  {
   "cell_type": "code",
   "execution_count": null,
   "metadata": {},
   "outputs": [],
   "source": [
    "def read_user_languages():\n",
    "    data = pd.read_csv('./user_languages.csv', \n",
    "            sep='\\t', \n",
    "            header=None, \n",
    "            names=['Language', 'Level', 'Username', 'Details'],\n",
    "            quoting=csv.QUOTE_NONE)\n",
    "    # Remove unknown users\n",
    "    data = data[data['Username'] != r'\\N']\n",
    "    data = data.dropna(subset=['Username'])\n",
    "    return data.fillna('')"
   ]
  },
  {
   "cell_type": "markdown",
   "metadata": {},
   "source": [
    "The cell belo displays 10 random rows, just to give you an overview of the structure of the data."
   ]
  },
  {
   "cell_type": "code",
   "execution_count": null,
   "metadata": {},
   "outputs": [],
   "source": [
    "user_infos = read_user_languages()\n",
    "user_infos.sample(10)"
   ]
  },
  {
   "cell_type": "markdown",
   "metadata": {},
   "source": [
    "### Languages of a specific user"
   ]
  },
  {
   "cell_type": "code",
   "execution_count": null,
   "metadata": {},
   "outputs": [],
   "source": [
    "def languages_of_user(username, user_frame):\n",
    "    return user_frame[user_frame['Username'] == username].sort_values(by='Level', ascending=False)"
   ]
  },
  {
   "cell_type": "markdown",
   "metadata": {},
   "source": [
    "Replace `username` by the username you want to check, and run the following cell. The results are displayed by descending `Level` order."
   ]
  },
  {
   "cell_type": "code",
   "execution_count": null,
   "metadata": {},
   "outputs": [],
   "source": [
    "username = '08pb80'\n",
    "languages_of_user(username, user_infos)"
   ]
  },
  {
   "cell_type": "markdown",
   "metadata": {},
   "source": [
    "### Users of a specific language"
   ]
  },
  {
   "cell_type": "code",
   "execution_count": null,
   "metadata": {},
   "outputs": [],
   "source": [
    "def users_of_language(iso, user_frame):\n",
    "    return user_frame[user_frame['Language'] == iso].sort_values(by='Username')"
   ]
  },
  {
   "cell_type": "markdown",
   "metadata": {},
   "source": [
    "Choose your target language as a 3-letter ISO code (`cmn`, `fra`, `jpn`, `eng`, etc.)."
   ]
  },
  {
   "cell_type": "code",
   "execution_count": null,
   "metadata": {
    "scrolled": true
   },
   "outputs": [],
   "source": [
    "language = 'fra'\n",
    "users_of_language(language, user_infos)"
   ]
  },
  {
   "cell_type": "markdown",
   "metadata": {},
   "source": [
    "### Natives of a specific language"
   ]
  },
  {
   "cell_type": "code",
   "execution_count": null,
   "metadata": {},
   "outputs": [],
   "source": [
    "def natives_of_language(iso, user_frame):\n",
    "    frame = users_of_language(iso, user_frame)\n",
    "    return frame[frame['Level'] == '5']"
   ]
  },
  {
   "cell_type": "markdown",
   "metadata": {},
   "source": [
    "Choose your target language as a 3-letter ISO code (`cmn`, `fra`, `jpn`, `eng`, etc.)."
   ]
  },
  {
   "cell_type": "code",
   "execution_count": null,
   "metadata": {
    "scrolled": true
   },
   "outputs": [],
   "source": [
    "language = 'fra'\n",
    "natives_of_language(language, user_infos)"
   ]
  },
  {
   "cell_type": "markdown",
   "metadata": {},
   "source": [
    "### Natives of X speaking Y"
   ]
  },
  {
   "cell_type": "markdown",
   "metadata": {},
   "source": [
    "Run the following"
   ]
  },
  {
   "cell_type": "code",
   "execution_count": null,
   "metadata": {},
   "outputs": [],
   "source": [
    "def natives_speaking_other(main_language, other_language, user_frame):\n",
    "    native_frame = users_of_language(main_language, user_frame)\n",
    "    native_users = native_frame[native_frame['Level'] == '5'].Username.tolist()\n",
    "    second_frame = user_frame[user_frame['Language'] == other_language]\n",
    "    second_users = second_frame.Username.tolist()\n",
    "    target_users = list(set(native_users).intersection(second_users))\n",
    "    result = user_frame[user_frame['Username'].isin(target_users) & user_frame['Language'].isin([main_language, other_language])].sort_values(by='Username')\n",
    "    print(f'{len(result) / 2} users found.')\n",
    "    return result"
   ]
  },
  {
   "cell_type": "markdown",
   "metadata": {},
   "source": [
    "Fetch users that are natives in `main_language` but also speaks `other_language`.  \n",
    "Choose your target languages as a 3-letter ISO code (`cmn`, `fra`, `jpn`, `eng`, etc.). "
   ]
  },
  {
   "cell_type": "code",
   "execution_count": null,
   "metadata": {},
   "outputs": [],
   "source": [
    "main_language = 'fra'\n",
    "other_language = 'eng'\n",
    "natives_speaking_other(main_language, other_language, user_infos)"
   ]
  },
  {
   "cell_type": "code",
   "execution_count": null,
   "metadata": {},
   "outputs": [],
   "source": []
  },
  {
   "cell_type": "markdown",
   "metadata": {},
   "source": [
    "You can get the list of Username of any frame you built by appending `.Username.tolist()`. Example:  "
   ]
  },
  {
   "cell_type": "code",
   "execution_count": null,
   "metadata": {},
   "outputs": [],
   "source": [
    "natives_speaking_other(main_language, other_language, user_infos).Username.tolist()"
   ]
  },
  {
   "cell_type": "code",
   "execution_count": null,
   "metadata": {},
   "outputs": [],
   "source": []
  }
 ],
 "metadata": {
  "kernelspec": {
   "display_name": "Python 3",
   "language": "python",
   "name": "python3"
  },
  "language_info": {
   "codemirror_mode": {
    "name": "ipython",
    "version": 3
   },
   "file_extension": ".py",
   "mimetype": "text/x-python",
   "name": "python",
   "nbconvert_exporter": "python",
   "pygments_lexer": "ipython3",
   "version": "3.7.3"
  }
 },
 "nbformat": 4,
 "nbformat_minor": 2
}
