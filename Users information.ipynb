{
 "cells": [
  {
   "cell_type": "markdown",
   "metadata": {},
   "source": [
    "This notebook is focused on users. You can:\n",
    "- [Fetch all languages of a specific user](#languages_of_user)\n",
    "- [Get the list of users speaking a specific language](#users_of_language) \n",
    "- [Get the list of native speakers of a specific language](#natives_of_language)\n",
    "- [Get a list of native speakers of one language speaking another](#natives_speaking)\n",
    "\n",
    "Before experimenting with any of the possibility described above, it is necessary to set and execute the cells under the [Languages of users](#languages_of_users) section.\n",
    "\n",
    "If you're new to Jupyter, please click on `Cell > Run All` from the top menu to see what the notebook does. You should see that cells that are running have an `In[*]` that will become `In[n]` when their execution is finished (`n` is a number). To run a specific cell, click in it and press `Shift + Enter` or click the `Run` button of the top menu. "
   ]
  },
  {
   "cell_type": "markdown",
   "metadata": {},
   "source": [
    "In any case, to be able to use the notebook correctly, please run the two following cells first."
   ]
  },
  {
   "cell_type": "code",
   "execution_count": null,
   "metadata": {},
   "outputs": [],
   "source": [
    "import pandas as pd\n",
    "import csv\n",
    "import tarfile"
   ]
  },
  {
   "cell_type": "code",
   "execution_count": null,
   "metadata": {},
   "outputs": [],
   "source": [
    "pd.set_option('display.max_colwidth', -1) # To display full content of the column\n",
    "# pd.set_option('display.max_rows', None) # To display ALL rows of the dataframe (otherwise you can decide the max number)"
   ]
  },
  {
   "cell_type": "markdown",
   "metadata": {},
   "source": [
    "<a id='languages_of_users'></a>\n",
    "# Languages of users"
   ]
  },
  {
   "cell_type": "markdown",
   "metadata": {},
   "source": [
    "Run the two following cell (you don't have to modify it)."
   ]
  },
  {
   "cell_type": "code",
   "execution_count": null,
   "metadata": {},
   "outputs": [],
   "source": [
    "def read_user_languages():\n",
    "    data = pd.read_csv('./user_languages.csv', \n",
    "            sep='\\t', \n",
    "            header=None, \n",
    "            names=['Language', 'Level', 'Username', 'Details'],\n",
    "            quoting=csv.QUOTE_NONE)\n",
    "    # Remove unknown users\n",
    "    data = data[data['Username'] != r'\\N']\n",
    "    data = data.dropna(subset=['Username'])\n",
    "    return data.fillna('')\n",
    "\n",
    "user_infos = read_user_languages()"
   ]
  },
  {
   "cell_type": "markdown",
   "metadata": {},
   "source": [
    "The cell below displays 10 random rows, just to give you an overview of the structure of the data."
   ]
  },
  {
   "cell_type": "code",
   "execution_count": null,
   "metadata": {},
   "outputs": [],
   "source": [
    "user_infos.sample(10)"
   ]
  },
  {
   "cell_type": "markdown",
   "metadata": {},
   "source": [
    "<a id='languages_of_user'></a>\n",
    "### Languages of a specific user"
   ]
  },
  {
   "cell_type": "markdown",
   "metadata": {},
   "source": [
    "Run the two following cell (you don't have to modify it)."
   ]
  },
  {
   "cell_type": "code",
   "execution_count": null,
   "metadata": {},
   "outputs": [],
   "source": [
    "def languages_of_user(username, user_frame):\n",
    "    return user_frame[user_frame['Username'] == username].sort_values(by='Level', ascending=False)"
   ]
  },
  {
   "cell_type": "markdown",
   "metadata": {},
   "source": [
    "Replace `username` by the username you want to check, and run the following cell. The results are displayed by descending `Level` order."
   ]
  },
  {
   "cell_type": "code",
   "execution_count": null,
   "metadata": {},
   "outputs": [],
   "source": [
    "username = 'nimfeo'  # <-- Modify this value\n",
    "languages_of_user(username, user_infos)"
   ]
  },
  {
   "cell_type": "markdown",
   "metadata": {},
   "source": [
    "<a id='users_of_language'></a>\n",
    "### Users of a specific language"
   ]
  },
  {
   "cell_type": "markdown",
   "metadata": {},
   "source": [
    "Run the two following cell. You don't have to modify it except if you want to sort the final results by another attribute than `Username`."
   ]
  },
  {
   "cell_type": "code",
   "execution_count": null,
   "metadata": {},
   "outputs": [],
   "source": [
    "def users_of_language(iso, user_frame):\n",
    "    return user_frame[user_frame['Language'] == iso].sort_values(by='Username')"
   ]
  },
  {
   "cell_type": "markdown",
   "metadata": {},
   "source": [
    "Choose your target language as a 3-letter ISO code (`cmn`, `fra`, `jpn`, `eng`, etc.) and run the next cell to obtain the list of all its speakers."
   ]
  },
  {
   "cell_type": "code",
   "execution_count": null,
   "metadata": {
    "scrolled": true
   },
   "outputs": [],
   "source": [
    "language = 'fra'  # <-- Modify this value\n",
    "users_of_language(language, user_infos)"
   ]
  },
  {
   "cell_type": "markdown",
   "metadata": {},
   "source": [
    "<a id='natives_of_language'></a>\n",
    "### Natives of a specific language"
   ]
  },
  {
   "cell_type": "markdown",
   "metadata": {},
   "source": [
    "Run the two following cell (you don't have to modify)."
   ]
  },
  {
   "cell_type": "code",
   "execution_count": null,
   "metadata": {},
   "outputs": [],
   "source": [
    "def natives_of_language(iso, user_frame):\n",
    "    frame = user_frame[user_frame['Language'] == iso].sort_values(by='Username')\n",
    "    return frame[frame['Level'] == '5']"
   ]
  },
  {
   "cell_type": "markdown",
   "metadata": {},
   "source": [
    "Choose your target language as a 3-letter ISO code (`cmn`, `fra`, `jpn`, `eng`, etc.) and run the following cells to obtain the list of all its natives."
   ]
  },
  {
   "cell_type": "code",
   "execution_count": null,
   "metadata": {
    "scrolled": true
   },
   "outputs": [],
   "source": [
    "language = 'fra'  # <-- Modify this value\n",
    "natives_of_language(language, user_infos)"
   ]
  },
  {
   "cell_type": "markdown",
   "metadata": {},
   "source": [
    "<a id='natives_speaking'></a>\n",
    "### Natives of X speaking Y"
   ]
  },
  {
   "cell_type": "markdown",
   "metadata": {},
   "source": [
    "Run the following cell (you don't have to modify it)."
   ]
  },
  {
   "cell_type": "code",
   "execution_count": null,
   "metadata": {},
   "outputs": [],
   "source": [
    "def natives_speaking_other(main_language, other_language, user_frame):\n",
    "    native_frame = users_of_language(main_language, user_frame)\n",
    "    native_users = native_frame[native_frame['Level'] == '5'].Username.tolist()\n",
    "    second_frame = user_frame[user_frame['Language'] == other_language]\n",
    "    second_users = second_frame.Username.tolist()\n",
    "    target_users = list(set(native_users).intersection(second_users))\n",
    "    result = user_frame[user_frame['Username'].isin(target_users) & user_frame['Language'].isin([main_language, other_language])].sort_values(by='Username')\n",
    "    print(f'{len(result) / 2} users found.')\n",
    "    return result"
   ]
  },
  {
   "cell_type": "markdown",
   "metadata": {},
   "source": [
    "The following cell will fetch users that are natives in `main_language` but also speaks `other_language`.  \n",
    "Choose your target languages as a 3-letter ISO code (`cmn`, `fra`, `jpn`, `eng`, etc.) and run the cell."
   ]
  },
  {
   "cell_type": "code",
   "execution_count": null,
   "metadata": {
    "scrolled": true
   },
   "outputs": [],
   "source": [
    "main_language = 'fra'  # <-- Modify this value\n",
    "other_language = 'eng'  # <-- Modify this value\n",
    "natives_speaking_other(main_language, other_language, user_infos)"
   ]
  },
  {
   "cell_type": "markdown",
   "metadata": {},
   "source": [
    "You can get the list of Username of any frame you built by appending `.Username.tolist()`. A list is easier to export and work with. Try it for the natives of X speaking Y you built above:  "
   ]
  },
  {
   "cell_type": "code",
   "execution_count": null,
   "metadata": {},
   "outputs": [],
   "source": [
    "natives_speaking_other(main_language, other_language, user_infos).Username.tolist()"
   ]
  },
  {
   "cell_type": "code",
   "execution_count": null,
   "metadata": {},
   "outputs": [],
   "source": []
  }
 ],
 "metadata": {
  "kernelspec": {
   "display_name": "Python 3",
   "language": "python",
   "name": "python3"
  },
  "language_info": {
   "codemirror_mode": {
    "name": "ipython",
    "version": 3
   },
   "file_extension": ".py",
   "mimetype": "text/x-python",
   "name": "python",
   "nbconvert_exporter": "python",
   "pygments_lexer": "ipython3",
   "version": "3.7.3"
  }
 },
 "nbformat": 4,
 "nbformat_minor": 2
}
