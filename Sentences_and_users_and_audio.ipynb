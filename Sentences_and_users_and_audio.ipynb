{
 "cells": [
  {
   "cell_type": "markdown",
   "metadata": {},
   "source": [
    "Run the following two cells first"
   ]
  },
  {
   "cell_type": "code",
   "execution_count": null,
   "metadata": {},
   "outputs": [],
   "source": [
    "import pandas as pd\n",
    "import csv\n",
    "import tarfile"
   ]
  },
  {
   "cell_type": "code",
   "execution_count": null,
   "metadata": {},
   "outputs": [],
   "source": [
    "pd.set_option('display.max_colwidth', -1) # To display full content of the column\n",
    "# pd.set_option('display.max_rows', None) # To display ALL rows of the dataframe (otherwise you can decide the max number)"
   ]
  },
  {
   "cell_type": "markdown",
   "metadata": {},
   "source": [
    "# Read sentences (do this first)"
   ]
  },
  {
   "cell_type": "markdown",
   "metadata": {},
   "source": [
    "Reading all sentences takes a long time so let's split the process into two steps. You only need to run the two following cells once."
   ]
  },
  {
   "cell_type": "code",
   "execution_count": null,
   "metadata": {},
   "outputs": [],
   "source": [
    "!cat sentences_detailed.tar.bz2.part* > sentences_detailed.tar.bz2\n",
    "def read_sentences_file():\n",
    "    with tarfile.open('./sentences_detailed.tar.bz2', 'r:*') as tar:\n",
    "        csv_path = tar.getnames()[0]\n",
    "        return pd.read_csv(tar.extractfile(csv_path), \n",
    "                sep='\\t', \n",
    "                header=None, \n",
    "                names=['sentenceID', 'ISO', 'Text', 'Username', 'Date added', 'Date last modified'],\n",
    "                quoting=csv.QUOTE_NONE)"
   ]
  },
  {
   "cell_type": "code",
   "execution_count": null,
   "metadata": {},
   "outputs": [],
   "source": [
    "all_sentences = read_sentences_file()"
   ]
  },
  {
   "cell_type": "markdown",
   "metadata": {},
   "source": [
    "Now, you can fetch sentences of a specific language using the following cells. When you want to change you target language, you can start again from here."
   ]
  },
  {
   "cell_type": "code",
   "execution_count": null,
   "metadata": {},
   "outputs": [],
   "source": [
    "def sentences_of_language(sentences, language):\n",
    "    target_sentences = sentences[sentences['ISO'] == language]\n",
    "    del target_sentences['Date added']\n",
    "    del target_sentences['Date last modified']\n",
    "    del target_sentences['ISO']\n",
    "    target_sentences = target_sentences.set_index(\"sentenceID\")\n",
    "    return target_sentences"
   ]
  },
  {
   "cell_type": "markdown",
   "metadata": {},
   "source": [
    "Choose your target language as a 3-letter ISO code (`cmn`, `fra`, `jpn`, `eng`, etc.)."
   ]
  },
  {
   "cell_type": "code",
   "execution_count": null,
   "metadata": {},
   "outputs": [],
   "source": [
    "language = 'eng'\n",
    "sentences = sentences_of_language(all_sentences, language)"
   ]
  },
  {
   "cell_type": "markdown",
   "metadata": {},
   "source": [
    "The following cell displays the first five sentences of your set, just for a quick check."
   ]
  },
  {
   "cell_type": "code",
   "execution_count": null,
   "metadata": {},
   "outputs": [],
   "source": [
    "sentences.head()"
   ]
  },
  {
   "cell_type": "markdown",
   "metadata": {},
   "source": [
    "## Get sentences of specific users"
   ]
  },
  {
   "cell_type": "markdown",
   "metadata": {},
   "source": [
    "First, run the following cell"
   ]
  },
  {
   "cell_type": "code",
   "execution_count": null,
   "metadata": {},
   "outputs": [],
   "source": [
    "def get_sentences_of_user(sentences, users):\n",
    "    target = sentences[sentences['Username'].isin(users)]\n",
    "    print(len(target), \"sentences fetched.\")\n",
    "    return target.sort_values(by='Username') # Modify this to change the sorting"
   ]
  },
  {
   "cell_type": "markdown",
   "metadata": {},
   "source": [
    "You can specify the name of the user(s) whose sentences you want in the `usernames` list. By running the following cell, you will fetch the sentences in the language you set above."
   ]
  },
  {
   "cell_type": "code",
   "execution_count": null,
   "metadata": {},
   "outputs": [],
   "source": [
    "usernames = ['AlanF_US', 'CK']\n",
    "user_sentences = get_sentences_of_user(sentences, usernames)"
   ]
  },
  {
   "cell_type": "markdown",
   "metadata": {},
   "source": [
    "The following cell displays a small sample of the sentences you fetched, just to check everything looks fine."
   ]
  },
  {
   "cell_type": "code",
   "execution_count": null,
   "metadata": {
    "scrolled": true
   },
   "outputs": [],
   "source": [
    "user_sentences.sample(10)"
   ]
  },
  {
   "cell_type": "markdown",
   "metadata": {},
   "source": [
    "# Audio"
   ]
  },
  {
   "cell_type": "markdown",
   "metadata": {},
   "source": [
    "First, run the two following cells"
   ]
  },
  {
   "cell_type": "code",
   "execution_count": null,
   "metadata": {},
   "outputs": [],
   "source": [
    "def read_audio_file():\n",
    "    with tarfile.open('./sentences_with_audio.tar.bz2', 'r:*') as tar:\n",
    "        csv_path = tar.getnames()[0]\n",
    "        sentences = pd.read_csv(tar.extractfile(csv_path), \n",
    "                sep='\\t', \n",
    "                header=None, \n",
    "                names=['sentenceID', 'Username', 'License', 'Attribution URL'], \n",
    "                quoting=csv.QUOTE_NONE)\n",
    "    del sentences['License']\n",
    "    del sentences['Attribution URL']\n",
    "    return sentences"
   ]
  },
  {
   "cell_type": "code",
   "execution_count": null,
   "metadata": {},
   "outputs": [],
   "source": [
    "sentences_with_audio = read_audio_file()\n",
    "audio_ids = sentences_with_audio['sentenceID'].values"
   ]
  },
  {
   "cell_type": "markdown",
   "metadata": {},
   "source": [
    "You can quickly check if the `sentences_with_audio` set looks OK by running the following"
   ]
  },
  {
   "cell_type": "code",
   "execution_count": null,
   "metadata": {},
   "outputs": [],
   "source": [
    "sentences_with_audio.sample(10)"
   ]
  },
  {
   "cell_type": "markdown",
   "metadata": {},
   "source": [
    "The following section allows you to check which sentences of your current `user_sentences` set have / do not have audio.  \n",
    "\n",
    "Note that `user_sentences` was filtered by the sentence author, not the audio contributor."
   ]
  },
  {
   "cell_type": "code",
   "execution_count": null,
   "metadata": {},
   "outputs": [],
   "source": [
    "def subset_with_audio(sentences, audio_ids):\n",
    "    target = user_sentences[user_sentences.index.isin(audio_ids)]\n",
    "    print(len(target), \"sentences with audio fetched.\")\n",
    "    return target"
   ]
  },
  {
   "cell_type": "code",
   "execution_count": null,
   "metadata": {},
   "outputs": [],
   "source": [
    "def subset_without_audio(sentences, audio_ids):\n",
    "    target = user_sentences[~user_sentences.index.isin(audio_ids)]\n",
    "    print(len(target), \"sentences without audio fetched.\")\n",
    "    return target"
   ]
  },
  {
   "cell_type": "code",
   "execution_count": null,
   "metadata": {},
   "outputs": [],
   "source": [
    "user_sentences_with_audio = subset_with_audio(user_sentences, audio_ids)"
   ]
  },
  {
   "cell_type": "code",
   "execution_count": null,
   "metadata": {},
   "outputs": [],
   "source": [
    "user_sentences_without_audio = subset_without_audio(user_sentences, audio_ids)"
   ]
  },
  {
   "cell_type": "markdown",
   "metadata": {},
   "source": [
    "The sentences without audio of a specific user can be fetched in the following manner"
   ]
  },
  {
   "cell_type": "code",
   "execution_count": null,
   "metadata": {
    "scrolled": true
   },
   "outputs": [],
   "source": [
    "one_user_no_audio = user_sentences_without_audio[user_sentences_without_audio['Username'] == 'CK']\n",
    "print(f'{one_user_no_audio.shape[0]} sentences without audio.')"
   ]
  },
  {
   "cell_type": "markdown",
   "metadata": {},
   "source": [
    "And now you can fetch them and play with them.  \n",
    "That way, you can extract sentences you want to record in the way you want: in order, in random, containing specific words, etc. (You may need to have a look to other notebooks, or get your hands dirty to achieve what you want though). \n",
    "\n",
    "Notice also that taking sentences at random may require a bit more of management if you want to do it often. Being random, it may happen that you get the same sentences several times. Using files, copy-pasting directly, etc."
   ]
  },
  {
   "cell_type": "markdown",
   "metadata": {},
   "source": [
    "Just for an illustration, here is how to take the first 50 sentences of `one_user_no_audio`. \n",
    "\n",
    "As a sidenote, by default, a maximum of 60 rows will be displayed (the first 30 and the last 30). If you want to display more, you can use \n",
    "```\n",
    "pandas.set_option('display.max_rows', n)\n",
    "```\n",
    "where n is the number of rows you want to display at maximum.\n",
    "\n",
    "Slicing is often better than displaying everything, but in this particular case, we may need to display one or two hundred sentences so..."
   ]
  },
  {
   "cell_type": "code",
   "execution_count": null,
   "metadata": {
    "scrolled": true
   },
   "outputs": [],
   "source": [
    "one_user_no_audio[:50]"
   ]
  },
  {
   "cell_type": "markdown",
   "metadata": {},
   "source": [
    "50 sentences at random:"
   ]
  },
  {
   "cell_type": "code",
   "execution_count": null,
   "metadata": {
    "scrolled": true
   },
   "outputs": [],
   "source": [
    "one_user_no_audio.sample(50)"
   ]
  },
  {
   "cell_type": "markdown",
   "metadata": {},
   "source": [
    "For more advanced way of fetching sentences, check the other books and add code here!"
   ]
  },
  {
   "cell_type": "code",
   "execution_count": null,
   "metadata": {},
   "outputs": [],
   "source": []
  }
 ],
 "metadata": {
  "kernelspec": {
   "display_name": "Python 3",
   "language": "python",
   "name": "python3"
  },
  "language_info": {
   "codemirror_mode": {
    "name": "ipython",
    "version": 3
   },
   "file_extension": ".py",
   "mimetype": "text/x-python",
   "name": "python",
   "nbconvert_exporter": "python",
   "pygments_lexer": "ipython3",
   "version": "3.7.3"
  }
 },
 "nbformat": 4,
 "nbformat_minor": 2
}
